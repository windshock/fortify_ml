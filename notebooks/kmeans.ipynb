{
 "cells": [
  {
   "cell_type": "code",
   "execution_count": 2,
   "outputs": [],
   "source": [
    "# 참고 : https://lovit.github.io/nlp/machine%20learning/2018/03/21/kmeans_cluster_labeling/\n",
    "\n",
    "from sklearn.feature_extraction.text import CountVectorizer\n",
    "from sklearn.feature_extraction.text import TfidfVectorizer\n",
    "from sklearn.preprocessing import normalize\n",
    "from sklearn.cluster import KMeans\n",
    "import math\n",
    "import pandas as pd\n",
    "import os\n",
    "\n",
    "base_dir = 'D:/'\n",
    "excel_file = 'fortify_ml2.xlsx'\n",
    "excel_dir = os.path.join(base_dir,excel_file)\n",
    "df_from_excel=pd.read_excel(excel_dir,sheet_name='Sheet1',header=0,names=['Fortify_NodeType','k16','k18','k21','manual','vul?'],dtype={'Fortify_NodeType':str,'kmeans':str,'manual':str},na_values='NaN',thousands=',',comment='#')\n",
    "docs = df_from_excel['Fortify_NodeType'].values\n",
    "k=math.ceil(len(docs)*0.34615)\n",
    "\n",
    "# vectorizing\n",
    "vectorizer = CountVectorizer()\n",
    "X = vectorizer.fit_transform(docs)\n",
    "\n",
    "# L2 normalizing\n",
    "X = normalize(X, norm='l2')\n",
    "\n",
    "# training k-means\n",
    "kmeans = KMeans(n_clusters=k).fit(X)\n",
    "\n",
    "# trained labels and cluster centers\n",
    "labels = kmeans.labels_\n",
    "centers = kmeans.cluster_centers_"
   ],
   "metadata": {
    "collapsed": false,
    "pycharm": {
     "name": "#%%\n",
     "is_executing": false
    }
   }
  },
  {
   "cell_type": "code",
   "execution_count": 3,
   "outputs": [
    {
     "name": "stdout",
     "text": [
      "[ 8  4  2 11  9 14 15 16 10 15  6  4  1  3  1  1  1  1  0  1 12 13  3  3\n  1  1  1  1  3  1  1  3  1  1  5  5  5  5  5  1  1  7  1  1  1  1  1]\n19\n"
     ],
     "output_type": "stream"
    }
   ],
   "source": [
    "print(labels)\n",
    "print(math.ceil((len(docs)*0.4)))\n"
   ],
   "metadata": {
    "collapsed": false,
    "pycharm": {
     "name": "#%%\n",
     "is_executing": false
    }
   }
  }
 ],
 "metadata": {
  "kernelspec": {
   "display_name": "Python 3",
   "language": "python",
   "name": "python3"
  },
  "language_info": {
   "codemirror_mode": {
    "name": "ipython",
    "version": 2
   },
   "file_extension": ".py",
   "mimetype": "text/x-python",
   "name": "python",
   "nbconvert_exporter": "python",
   "pygments_lexer": "ipython2",
   "version": "2.7.6"
  },
  "pycharm": {
   "stem_cell": {
    "cell_type": "raw",
    "source": [
     "\n"
    ],
    "metadata": {
     "collapsed": false
    }
   }
  }
 },
 "nbformat": 4,
 "nbformat_minor": 0
}